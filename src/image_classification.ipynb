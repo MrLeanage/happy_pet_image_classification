{
  "nbformat": 4,
  "nbformat_minor": 0,
  "metadata": {
    "colab": {
      "provenance": [],
      "collapsed_sections": [],
      "authorship_tag": "ABX9TyMP0MxJjty+aDmACOlGj+/7",
      "include_colab_link": true
    },
    "kernelspec": {
      "name": "python3",
      "display_name": "Python 3"
    },
    "language_info": {
      "name": "python"
    },
    "gpuClass": "standard",
    "accelerator": "GPU"
  },
  "cells": [
    {
      "cell_type": "markdown",
      "metadata": {
        "id": "view-in-github",
        "colab_type": "text"
      },
      "source": [
        "<a href=\"https://colab.research.google.com/github/MrLeanage/happy_pet_image_classification/blob/main/src/image_classification.ipynb\" target=\"_parent\"><img src=\"https://colab.research.google.com/assets/colab-badge.svg\" alt=\"Open In Colab\"/></a>"
      ]
    },
    {
      "cell_type": "code",
      "execution_count": null,
      "metadata": {
        "colab": {
          "base_uri": "https://localhost:8080/"
        },
        "id": "KEdQzo0Kp5gV",
        "outputId": "19f752b2-17a4-4a81-f33b-9c6463448be8"
      },
      "outputs": [
        {
          "output_type": "stream",
          "name": "stdout",
          "text": [
            "Drive already mounted at /content/drive; to attempt to forcibly remount, call drive.mount(\"/content/drive\", force_remount=True).\n"
          ]
        }
      ],
      "source": [
        "#mounting Drive\n",
        "from google.colab import drive\n",
        "drive.mount('/content/drive')\n",
        "\n",
        "from tensorflow.compat.v1 import ConfigProto\n",
        "from tensorflow.compat.v1 import InteractiveSession\n",
        "\n",
        "#setting GPU configs\n",
        "#config = ConfigProto()\n",
        "#config.gpu_options.per_process_gpu_memory_fraction = 0.5\n",
        "#config.gpu_options.allow_growth = True\n",
        "#session = InteractiveSession(config=config)\n",
        "\n"
      ]
    },
    {
      "cell_type": "code",
      "source": [
        "\n",
        "\n",
        "# Convolutional Neural Network\n",
        "\n",
        "# defining constants\n",
        "SPLIT_SIZE = .7\n",
        "\n",
        "# Importing the libraries\n",
        "import tensorflow as tf\n",
        "from tensorflow.keras.preprocessing.image import ImageDataGenerator\n",
        "\n",
        "import warnings\n",
        "warnings.filterwarnings('ignore')\n",
        "\n",
        "import os\n",
        "import random\n",
        "from shutil import copyfile\n",
        "\n",
        "tf.__version__\n",
        "\n"
      ],
      "metadata": {
        "colab": {
          "base_uri": "https://localhost:8080/",
          "height": 35
        },
        "id": "SH5y4jA8qjQc",
        "outputId": "ea62a0b0-f420-4c6e-fb35-8ef1ce342060"
      },
      "execution_count": null,
      "outputs": [
        {
          "output_type": "execute_result",
          "data": {
            "text/plain": [
              "'2.8.2'"
            ],
            "application/vnd.google.colaboratory.intrinsic+json": {
              "type": "string"
            }
          },
          "metadata": {},
          "execution_count": 33
        }
      ]
    },
    {
      "cell_type": "code",
      "source": [
        "#importing data from drive to project\n",
        "original_dataset_dir = '/content/drive/MyDrive/Colab Notebooks/happy_pet/implementations/image_processing/data'\n",
        "data_dir_list = os.listdir(original_dataset_dir)\n",
        "print(data_dir_list)\n",
        "path, dirs, files = next(os.walk(original_dataset_dir))\n",
        "file_count = len(data_dir_list)\n",
        "print(file_count)"
      ],
      "metadata": {
        "colab": {
          "base_uri": "https://localhost:8080/"
        },
        "id": "onF5poDdH2gV",
        "outputId": "1dc3c02b-3472-473a-d229-57b44c9dcc68"
      },
      "execution_count": null,
      "outputs": [
        {
          "output_type": "stream",
          "name": "stdout",
          "text": [
            "['Papule', 'Ringworm', 'Seborrhea', 'Alopecia', 'Vesicle', 'Pemphigus', 'Melanoma', 'Dranduff', 'Yeast_infection', 'Comedones_blackheads', 'Furunculosis', 'Impetigo', 'Fleas', 'Folliculitis', 'Hypothyvoidis', 'Lupus', 'Mange']\n",
            "17\n"
          ]
        }
      ]
    },
    {
      "cell_type": "code",
      "source": [
        "#make new base directories to split data for Test and Train\n",
        "base_dir = '/content/image_data'\n",
        "if not os.path.exists(base_dir):\n",
        "  os.mkdir(base_dir)"
      ],
      "metadata": {
        "id": "hQYR6gyaKE0W"
      },
      "execution_count": null,
      "outputs": []
    },
    {
      "cell_type": "code",
      "source": [
        "#creating folders for Train and Test Data\n",
        "train_dir = os.path.join(base_dir, 'train')\n",
        "if not os.path.exists(train_dir):\n",
        "  os.mkdir(train_dir)\n",
        "\n",
        "test_dir = os.path.join(base_dir, 'test')\n",
        "if not os.path.exists(test_dir):\n",
        " os.mkdir(test_dir)"
      ],
      "metadata": {
        "id": "4mkprQp_Kpct"
      },
      "execution_count": null,
      "outputs": []
    },
    {
      "cell_type": "code",
      "source": [
        "#creating other class folders in Test and Train data folders\n",
        "# ['Mange', 'Lupus', 'Impetigo', 'Hypothyvoidis', 'Furunculosis', 'Folliculitis', 'Fleas', 'Dranduff', 'Comedones_blackheads', 'Alopecia', 'Yeast_infection', 'Vesicle', 'Seborrhea', 'Ringworm', 'Pemphigus', 'Papule', 'Melanoma']\n",
        "\n",
        "#folders for Train\n",
        "for disease_folder in data_dir_list :\n",
        "  if not os.path.exists(train_dir + '/' + disease_folder):\n",
        "    os.mkdir(os.path.join(train_dir, disease_folder))\n",
        "  \n",
        "\n",
        "#folders for Test\n",
        "for disease_folder in data_dir_list :\n",
        "  if not os.path.exists(test_dir + '/' + disease_folder):\n",
        "    os.mkdir(os.path.join(test_dir, disease_folder))"
      ],
      "metadata": {
        "id": "Pi1jfi1ZLMyU"
      },
      "execution_count": null,
      "outputs": []
    },
    {
      "cell_type": "code",
      "source": [
        "#Split data for Training and Testing\n",
        "\n",
        "def split_data(SOURCE, TRAINING, TESTING, SPLIT_SIZE):\n",
        "  files = []\n",
        "  for filename in os.listdir(SOURCE):\n",
        "    file = SOURCE + filename\n",
        "    if os.path.getsize(file) > 0:\n",
        "      files.append(filename)\n",
        "    else:\n",
        "      print(filename + ' is empty, So ignoring!..')\n",
        "\n",
        "  training_length = int(len(files) * SPLIT_SIZE)\n",
        "  valid_length = int(len(files) - training_length)\n",
        "\n",
        "  shuffled_set = random.sample(files, len(files))\n",
        "  training_set = shuffled_set[0:training_length]\n",
        "  testing_set = shuffled_set[training_length:]\n",
        "\n",
        "  for filename in training_set:\n",
        "      this_file = SOURCE + filename\n",
        "      destination = TRAINING + filename\n",
        "      #calling filter for images\n",
        "      copyfile(this_file, destination)\n",
        "\n",
        "  for filename in testing_set:\n",
        "      this_file = SOURCE + filename\n",
        "      destination = TESTING + filename\n",
        "      #calling filter for images\n",
        "      copyfile(this_file, destination)"
      ],
      "metadata": {
        "id": "TCTb0-MYQcbw"
      },
      "execution_count": null,
      "outputs": []
    },
    {
      "cell_type": "code",
      "source": [
        "#copying data for Training and testing folders\n",
        "for disease_folder in data_dir_list :\n",
        "  split_data(original_dataset_dir + '/' + disease_folder + '/', train_dir + '/' + disease_folder + '/', test_dir + '/' + disease_folder + '/', SPLIT_SIZE)"
      ],
      "metadata": {
        "id": "6sGQAjA8W-ph"
      },
      "execution_count": null,
      "outputs": []
    },
    {
      "cell_type": "code",
      "source": [
        "#displaying the distribution of training data set\n",
        "import matplotlib.pyplot as plt\n",
        "import seaborn as sns\n",
        "from matplotlib.image import imread\n",
        "import pathlib\n",
        "\n",
        "nimgs = {}\n",
        "for i in data_dir_list:\n",
        "    nimages = len(os.listdir(train_dir + '/'+i+'/'))\n",
        "    nimgs[i]=nimages\n",
        "plt.figure(figsize=(20, 6))\n",
        "plt.bar(range(len(nimgs)), list(nimgs.values()), align='center')\n",
        "plt.xticks(range(len(nimgs)), list(nimgs.keys()))\n",
        "plt.title('Distribution of different Disease classes in Training Dataset')\n",
        "plt.xticks(rotation=30)\n",
        "plt.show()"
      ],
      "metadata": {
        "colab": {
          "base_uri": "https://localhost:8080/",
          "height": 287
        },
        "id": "lMQBjgZX79Yf",
        "outputId": "2033fa80-f2a6-4236-d291-a8e0e808521d"
      },
      "execution_count": null,
      "outputs": [
        {
          "output_type": "display_data",
          "data": {
            "text/plain": [
              "<Figure size 1440x432 with 1 Axes>"
            ],
            "image/png": "[encoded data removed]"
          },
          "metadata": {
            "needs_background": "light"
          }
        }
      ]
    },
    {
      "cell_type": "code",
      "source": [
        "for i in data_dir_list:\n",
        "    print('Training {} images are: '.format(i)+str(len(os.listdir(train_dir +'/'+i+'/'))))"
      ],
      "metadata": {
        "colab": {
          "base_uri": "https://localhost:8080/"
        },
        "id": "6K3gRe4ykdzz",
        "outputId": "76580334-2ca8-4f93-c4bb-ee7c1f44b62a"
      },
      "execution_count": null,
      "outputs": [
        {
          "output_type": "stream",
          "name": "stdout",
          "text": [
            "Training Papule images are: 108\n",
            "Training Ringworm images are: 108\n",
            "Training Seborrhea images are: 88\n",
            "Training Alopecia images are: 67\n",
            "Training Vesicle images are: 51\n",
            "Training Pemphigus images are: 113\n",
            "Training Melanoma images are: 126\n",
            "Training Dranduff images are: 56\n",
            "Training Yeast_infection images are: 47\n",
            "Training Comedones_blackheads images are: 59\n",
            "Training Furunculosis images are: 53\n",
            "Training Impetigo images are: 104\n",
            "Training Fleas images are: 73\n",
            "Training Folliculitis images are: 87\n",
            "Training Hypothyvoidis images are: 133\n",
            "Training Lupus images are: 139\n",
            "Training Mange images are: 60\n"
          ]
        }
      ]
    },
    {
      "cell_type": "code",
      "source": [
        "#displaying the distribution of testing data set\n",
        "nimgs = {}\n",
        "for i in data_dir_list:\n",
        "    nimages = len(os.listdir(test_dir + '/'+i+'/'))\n",
        "    nimgs[i]=nimages\n",
        "plt.figure(figsize=(20, 6))\n",
        "plt.bar(range(len(nimgs)), list(nimgs.values()), align='center')\n",
        "plt.xticks(range(len(nimgs)), list(nimgs.keys()))\n",
        "plt.title('Distribution of different classes in Testing Dataset')\n",
        "plt.xticks(rotation=30)\n",
        "plt.show()\n",
        "\n"
      ],
      "metadata": {
        "colab": {
          "base_uri": "https://localhost:8080/",
          "height": 289
        },
        "id": "iUbfDSyHpyss",
        "outputId": "51270368-ee62-4ebf-9a85-d91bb06ab1a5"
      },
      "execution_count": null,
      "outputs": [
        {
          "output_type": "display_data",
          "data": {
            "text/plain": [
              "<Figure size 1440x432 with 1 Axes>"
            ],
            "image/png": "[encoded data removed]"
          },
          "metadata": {
            "needs_background": "light"
          }
        }
      ]
    },
    {
      "cell_type": "code",
      "source": [
        "for i in data_dir_list:\n",
        "    print('Testing {} images are: '.format(i)+str(len(os.listdir(test_dir +'/'+i+'/'))))"
      ],
      "metadata": {
        "colab": {
          "base_uri": "https://localhost:8080/"
        },
        "id": "pS-4Npqyqobo",
        "outputId": "981b28ac-6f45-4dee-ab58-c3cb60853f00"
      },
      "execution_count": null,
      "outputs": [
        {
          "output_type": "stream",
          "name": "stdout",
          "text": [
            "Testing Papule images are: 33\n",
            "Testing Ringworm images are: 29\n",
            "Testing Seborrhea images are: 25\n",
            "Testing Alopecia images are: 21\n",
            "Testing Vesicle images are: 14\n",
            "Testing Pemphigus images are: 30\n",
            "Testing Melanoma images are: 37\n",
            "Testing Dranduff images are: 18\n",
            "Testing Yeast_infection images are: 14\n",
            "Testing Comedones_blackheads images are: 17\n",
            "Testing Furunculosis images are: 16\n",
            "Testing Impetigo images are: 31\n",
            "Testing Fleas images are: 21\n",
            "Testing Folliculitis images are: 26\n",
            "Testing Hypothyvoidis images are: 39\n",
            "Testing Lupus images are: 41\n",
            "Testing Mange images are: 18\n"
          ]
        }
      ]
    },
    {
      "cell_type": "markdown",
      "source": [],
      "metadata": {
        "id": "ERe-IL0PUwmJ"
      }
    },
    {
      "cell_type": "markdown",
      "source": [
        "IMAGE FILTERING"
      ],
      "metadata": {
        "id": "MPddI9L4nvNu"
      }
    },
    {
      "cell_type": "markdown",
      "source": [
        "ALGORITHM TESTING CODE BLOCK 1 - SVM CLASSIFICATION"
      ],
      "metadata": {
        "id": "OrYXJfHaPOIU"
      }
    },
    {
      "cell_type": "markdown",
      "source": [],
      "metadata": {
        "id": "71_GSpG8qyn_"
      }
    },
    {
      "cell_type": "code",
      "source": [],
      "metadata": {
        "id": "0OWemvI4qyOE"
      },
      "execution_count": null,
      "outputs": []
    },
    {
      "cell_type": "code",
      "source": [
        "\n",
        "\n",
        "# Part 1 - Data Preprocessing\n",
        "\n",
        "# Preprocessing the Training set, rescale & augment data\n",
        "train_datagen = ImageDataGenerator(rescale = 1./255,\n",
        "                                   shear_range = 0.2,\n",
        "                                   zoom_range = 0.2,\n",
        "                                   horizontal_flip = True)\n",
        "training_set = train_datagen.flow_from_directory(train_dir,\n",
        "                                                 target_size = (64, 64),\n",
        "                                                 batch_size = 32,\n",
        "                                                 class_mode = 'categorical')"
      ],
      "metadata": {
        "id": "4yVhubs7qxi6",
        "colab": {
          "base_uri": "https://localhost:8080/"
        },
        "outputId": "0f0358ad-f1e3-41ac-b982-e252e775df8d"
      },
      "execution_count": null,
      "outputs": [
        {
          "output_type": "stream",
          "name": "stdout",
          "text": [
            "Found 1471 images belonging to 17 classes.\n"
          ]
        }
      ]
    },
    {
      "cell_type": "code",
      "source": [
        "# Preprocessing the Test set \n",
        "test_datagen = ImageDataGenerator(rescale = 1./255)\n",
        "test_set = test_datagen.flow_from_directory(test_dir,\n",
        "                                            target_size = (64, 64),\n",
        "                                            batch_size = 32,\n",
        "                                            class_mode = 'categorical')\n"
      ],
      "metadata": {
        "id": "bRbXcd0BrYVu",
        "colab": {
          "base_uri": "https://localhost:8080/"
        },
        "outputId": "f9c8d5fd-6773-446d-9298-bde82da354b6"
      },
      "execution_count": null,
      "outputs": [
        {
          "output_type": "stream",
          "name": "stdout",
          "text": [
            "Found 430 images belonging to 17 classes.\n"
          ]
        }
      ]
    },
    {
      "cell_type": "code",
      "source": [
        "#importing layers libraries\n",
        "from tensorflow.keras.layers import Conv2D\n",
        "from tensorflow.keras.layers import Dense\n",
        "\n",
        "#\n",
        "from tensorflow.keras.regularizers import l2"
      ],
      "metadata": {
        "id": "YKg1Sru4_QU9"
      },
      "execution_count": null,
      "outputs": []
    },
    {
      "cell_type": "code",
      "source": [
        "#creating CNN Layer\n",
        "# Part 2 - Building the CNN (Convolution+Pool)\n",
        "# Initialising the CNN\n",
        "cnn = tf.keras.models.Sequential()\n",
        "\n",
        "# Step 1 - Convolution\n",
        "cnn.add(tf.keras.layers.Conv2D(filters=32,padding=\"same\",kernel_size=3, activation='relu', strides=2, input_shape=[64, 64, 3]))\n",
        "\n",
        "# Step 2 - Pooling\n",
        "cnn.add(tf.keras.layers.MaxPool2D(pool_size=2, strides=2))\n",
        "\n",
        "# Adding a second convolutional layer\n",
        "cnn.add(tf.keras.layers.Conv2D(filters=32,padding='same',kernel_size=3, activation='relu'))\n",
        "cnn.add(tf.keras.layers.MaxPool2D(pool_size=2, strides=2))\n",
        "\n",
        "# Step 3 - Flattening\n",
        "cnn.add(tf.keras.layers.Flatten())\n",
        "\n",
        "# Step 4 - Full Connection\n",
        "cnn.add(tf.keras.layers.Dense(units=128, activation='relu'))\n",
        "\n",
        "# Step 5 - Output Layer\n",
        "#cnn.add(tf.keras.layers.Dense(units=1, activation='sigmoid'))\n",
        "\n",
        "\n",
        "## for mulitclassification\n",
        "cnn.add(Dense(17, kernel_regularizer=tf.keras.regularizers.l2(0.01),activation\n",
        "             ='softmax'))\n",
        "# Compiling the CNN\n",
        "cnn.compile(optimizer = 'adam', loss = 'squared_hinge', metrics = ['accuracy'])\n",
        "\n",
        "\n"
      ],
      "metadata": {
        "id": "E1_VxoxQ_qd8"
      },
      "execution_count": null,
      "outputs": []
    },
    {
      "cell_type": "code",
      "source": [
        "cnn.summary()"
      ],
      "metadata": {
        "colab": {
          "base_uri": "https://localhost:8080/"
        },
        "id": "ehZu7x0LBNbn",
        "outputId": "42a61226-4fdf-467b-d857-43cca1da1137"
      },
      "execution_count": null,
      "outputs": [
        {
          "output_type": "stream",
          "name": "stdout",
          "text": [
            "Model: \"sequential_7\"\n",
            "_________________________________________________________________\n",
            " Layer (type)                Output Shape              Param #   \n",
            "=================================================================\n",
            " conv2d_42 (Conv2D)          (None, 32, 32, 32)        896       \n",
            "                                                                 \n",
            " max_pooling2d_26 (MaxPoolin  (None, 16, 16, 32)       0         \n",
            " g2D)                                                            \n",
            "                                                                 \n",
            " conv2d_43 (Conv2D)          (None, 16, 16, 32)        9248      \n",
            "                                                                 \n",
            " max_pooling2d_27 (MaxPoolin  (None, 8, 8, 32)         0         \n",
            " g2D)                                                            \n",
            "                                                                 \n",
            " flatten_7 (Flatten)         (None, 2048)              0         \n",
            "                                                                 \n",
            " dense_19 (Dense)            (None, 128)               262272    \n",
            "                                                                 \n",
            " dense_20 (Dense)            (None, 17)                2193      \n",
            "                                                                 \n",
            "=================================================================\n",
            "Total params: 274,609\n",
            "Trainable params: 274,609\n",
            "Non-trainable params: 0\n",
            "_________________________________________________________________\n"
          ]
        }
      ]
    },
    {
      "cell_type": "code",
      "source": [
        "\n",
        "\n",
        "# Part 3 - Training the CNN\n",
        "\n",
        "# Training the CNN on the Training set and evaluating it on the Test set\n",
        "r=cnn.fit(x = training_set, validation_data = test_set, epochs = 50)\n",
        "\n"
      ],
      "metadata": {
        "colab": {
          "base_uri": "https://localhost:8080/"
        },
        "id": "TYLkyMmRBtdp",
        "outputId": "766536d0-5107-4dc3-f803-9ca5f28f3e88"
      },
      "execution_count": null,
      "outputs": [
        {
          "output_type": "stream",
          "name": "stdout",
          "text": [
            "Epoch 1/50\n",
            "46/46 [==============================] - 28s 603ms/step - loss: 1.0815 - accuracy: 0.3379 - val_loss: 1.0796 - val_accuracy: 0.3465\n",
            "Epoch 2/50\n",
            "46/46 [==============================] - 27s 597ms/step - loss: 1.0748 - accuracy: 0.3732 - val_loss: 1.0753 - val_accuracy: 0.3907\n",
            "Epoch 3/50\n",
            "46/46 [==============================] - 27s 592ms/step - loss: 1.0765 - accuracy: 0.3671 - val_loss: 1.0733 - val_accuracy: 0.3860\n",
            "Epoch 4/50\n",
            "46/46 [==============================] - 27s 587ms/step - loss: 1.0724 - accuracy: 0.3895 - val_loss: 1.0644 - val_accuracy: 0.4442\n",
            "Epoch 5/50\n",
            "46/46 [==============================] - 27s 585ms/step - loss: 1.0699 - accuracy: 0.4086 - val_loss: 1.0627 - val_accuracy: 0.4419\n",
            "Epoch 6/50\n",
            "46/46 [==============================] - 27s 591ms/step - loss: 1.0663 - accuracy: 0.4269 - val_loss: 1.0626 - val_accuracy: 0.4442\n",
            "Epoch 7/50\n",
            "46/46 [==============================] - 27s 578ms/step - loss: 1.0639 - accuracy: 0.4487 - val_loss: 1.0664 - val_accuracy: 0.4279\n",
            "Epoch 8/50\n",
            "46/46 [==============================] - 27s 583ms/step - loss: 1.0625 - accuracy: 0.4528 - val_loss: 1.0528 - val_accuracy: 0.5047\n",
            "Epoch 9/50\n",
            "46/46 [==============================] - 27s 591ms/step - loss: 1.0584 - accuracy: 0.4745 - val_loss: 1.0592 - val_accuracy: 0.4721\n",
            "Epoch 10/50\n",
            "46/46 [==============================] - 27s 585ms/step - loss: 1.0568 - accuracy: 0.4799 - val_loss: 1.0504 - val_accuracy: 0.5047\n",
            "Epoch 11/50\n",
            "46/46 [==============================] - 27s 586ms/step - loss: 1.0555 - accuracy: 0.4976 - val_loss: 1.0546 - val_accuracy: 0.4837\n",
            "Epoch 12/50\n",
            "46/46 [==============================] - 27s 588ms/step - loss: 1.0528 - accuracy: 0.5065 - val_loss: 1.0449 - val_accuracy: 0.5395\n",
            "Epoch 13/50\n",
            "46/46 [==============================] - 27s 589ms/step - loss: 1.0502 - accuracy: 0.5105 - val_loss: 1.0477 - val_accuracy: 0.5465\n",
            "Epoch 14/50\n",
            "46/46 [==============================] - 27s 587ms/step - loss: 1.0481 - accuracy: 0.5323 - val_loss: 1.0515 - val_accuracy: 0.5163\n",
            "Epoch 15/50\n",
            "46/46 [==============================] - 27s 588ms/step - loss: 1.0464 - accuracy: 0.5398 - val_loss: 1.0424 - val_accuracy: 0.5674\n",
            "Epoch 16/50\n",
            "46/46 [==============================] - 27s 590ms/step - loss: 1.0427 - accuracy: 0.5663 - val_loss: 1.0356 - val_accuracy: 0.6093\n",
            "Epoch 17/50\n",
            "46/46 [==============================] - 27s 583ms/step - loss: 1.0457 - accuracy: 0.5472 - val_loss: 1.0439 - val_accuracy: 0.5605\n",
            "Epoch 18/50\n",
            "46/46 [==============================] - 27s 585ms/step - loss: 1.0401 - accuracy: 0.5853 - val_loss: 1.0325 - val_accuracy: 0.6140\n",
            "Epoch 19/50\n",
            "46/46 [==============================] - 27s 583ms/step - loss: 1.0377 - accuracy: 0.5928 - val_loss: 1.0326 - val_accuracy: 0.6116\n",
            "Epoch 20/50\n",
            "46/46 [==============================] - 27s 586ms/step - loss: 1.0347 - accuracy: 0.6071 - val_loss: 1.0305 - val_accuracy: 0.6302\n",
            "Epoch 21/50\n",
            "46/46 [==============================] - 27s 587ms/step - loss: 1.0329 - accuracy: 0.6193 - val_loss: 1.0300 - val_accuracy: 0.6279\n",
            "Epoch 22/50\n",
            "46/46 [==============================] - 27s 585ms/step - loss: 1.0324 - accuracy: 0.6227 - val_loss: 1.0266 - val_accuracy: 0.6488\n",
            "Epoch 23/50\n",
            "46/46 [==============================] - 27s 586ms/step - loss: 1.0280 - accuracy: 0.6431 - val_loss: 1.0244 - val_accuracy: 0.6674\n",
            "Epoch 24/50\n",
            "46/46 [==============================] - 27s 595ms/step - loss: 1.0294 - accuracy: 0.6377 - val_loss: 1.0263 - val_accuracy: 0.6488\n",
            "Epoch 25/50\n",
            "46/46 [==============================] - 27s 587ms/step - loss: 1.0256 - accuracy: 0.6567 - val_loss: 1.0229 - val_accuracy: 0.6512\n",
            "Epoch 26/50\n",
            "46/46 [==============================] - 27s 589ms/step - loss: 1.0255 - accuracy: 0.6540 - val_loss: 1.0216 - val_accuracy: 0.6767\n",
            "Epoch 27/50\n",
            "46/46 [==============================] - 27s 592ms/step - loss: 1.0249 - accuracy: 0.6560 - val_loss: 1.0200 - val_accuracy: 0.6791\n",
            "Epoch 28/50\n",
            "46/46 [==============================] - 27s 584ms/step - loss: 1.0219 - accuracy: 0.6798 - val_loss: 1.0216 - val_accuracy: 0.6674\n",
            "Epoch 29/50\n",
            "46/46 [==============================] - 27s 588ms/step - loss: 1.0231 - accuracy: 0.6662 - val_loss: 1.0200 - val_accuracy: 0.6791\n",
            "Epoch 30/50\n",
            "46/46 [==============================] - 27s 593ms/step - loss: 1.0221 - accuracy: 0.6710 - val_loss: 1.0159 - val_accuracy: 0.6930\n",
            "Epoch 31/50\n",
            "46/46 [==============================] - 27s 592ms/step - loss: 1.0192 - accuracy: 0.6791 - val_loss: 1.0164 - val_accuracy: 0.6930\n",
            "Epoch 32/50\n",
            "46/46 [==============================] - 27s 585ms/step - loss: 1.0175 - accuracy: 0.6975 - val_loss: 1.0202 - val_accuracy: 0.6791\n",
            "Epoch 33/50\n",
            "46/46 [==============================] - 27s 587ms/step - loss: 1.0170 - accuracy: 0.6975 - val_loss: 1.0183 - val_accuracy: 0.6721\n",
            "Epoch 34/50\n",
            "46/46 [==============================] - 27s 589ms/step - loss: 1.0175 - accuracy: 0.6920 - val_loss: 1.0128 - val_accuracy: 0.7093\n",
            "Epoch 35/50\n",
            "46/46 [==============================] - 28s 607ms/step - loss: 1.0151 - accuracy: 0.7111 - val_loss: 1.0140 - val_accuracy: 0.7093\n",
            "Epoch 36/50\n",
            "46/46 [==============================] - 27s 598ms/step - loss: 1.0142 - accuracy: 0.7090 - val_loss: 1.0181 - val_accuracy: 0.6767\n",
            "Epoch 37/50\n",
            "46/46 [==============================] - 27s 590ms/step - loss: 1.0133 - accuracy: 0.7186 - val_loss: 1.0119 - val_accuracy: 0.7186\n",
            "Epoch 38/50\n",
            "46/46 [==============================] - 27s 593ms/step - loss: 1.0139 - accuracy: 0.7097 - val_loss: 1.0108 - val_accuracy: 0.7116\n",
            "Epoch 39/50\n",
            "46/46 [==============================] - 27s 596ms/step - loss: 1.0109 - accuracy: 0.7247 - val_loss: 1.0089 - val_accuracy: 0.7233\n",
            "Epoch 40/50\n",
            "46/46 [==============================] - 27s 593ms/step - loss: 1.0108 - accuracy: 0.7220 - val_loss: 1.0106 - val_accuracy: 0.7116\n",
            "Epoch 41/50\n",
            "46/46 [==============================] - 27s 588ms/step - loss: 1.0141 - accuracy: 0.7124 - val_loss: 1.0123 - val_accuracy: 0.7140\n",
            "Epoch 42/50\n",
            "46/46 [==============================] - 27s 588ms/step - loss: 1.0100 - accuracy: 0.7301 - val_loss: 1.0065 - val_accuracy: 0.7419\n",
            "Epoch 43/50\n",
            "46/46 [==============================] - 27s 580ms/step - loss: 1.0076 - accuracy: 0.7362 - val_loss: 1.0086 - val_accuracy: 0.7326\n",
            "Epoch 44/50\n",
            "46/46 [==============================] - 27s 591ms/step - loss: 1.0069 - accuracy: 0.7430 - val_loss: 1.0055 - val_accuracy: 0.7349\n",
            "Epoch 45/50\n",
            "46/46 [==============================] - 27s 594ms/step - loss: 1.0071 - accuracy: 0.7369 - val_loss: 1.0072 - val_accuracy: 0.7442\n",
            "Epoch 46/50\n",
            "46/46 [==============================] - 27s 585ms/step - loss: 1.0048 - accuracy: 0.7505 - val_loss: 1.0032 - val_accuracy: 0.7488\n",
            "Epoch 47/50\n",
            "46/46 [==============================] - 27s 579ms/step - loss: 1.0066 - accuracy: 0.7417 - val_loss: 1.0045 - val_accuracy: 0.7558\n",
            "Epoch 48/50\n",
            "46/46 [==============================] - 27s 582ms/step - loss: 1.0054 - accuracy: 0.7451 - val_loss: 1.0059 - val_accuracy: 0.7395\n",
            "Epoch 49/50\n",
            "46/46 [==============================] - 27s 586ms/step - loss: 1.0033 - accuracy: 0.7559 - val_loss: 1.0068 - val_accuracy: 0.7349\n",
            "Epoch 50/50\n",
            "46/46 [==============================] - 27s 589ms/step - loss: 1.0021 - accuracy: 0.7607 - val_loss: 1.0053 - val_accuracy: 0.7442\n"
          ]
        }
      ]
    },
    {
      "cell_type": "code",
      "source": [
        "#plotting accuracy over training and validation accuracy\n",
        "\n",
        "# plot the loss\n",
        "import matplotlib.pyplot as plt\n",
        "\n",
        "fig = plt.figure(figsize=(14,7))\n",
        "plt.plot(r.history['loss'], label='Training Loss')\n",
        "plt.plot(r.history['val_loss'], label='Validation Loss')\n",
        "plt.legend()\n",
        "plt.show()\n",
        "plt.savefig('LossVal_loss')\n",
        "\n",
        "# plot the accuracy\n",
        "fig = plt.figure(figsize=(14,7))\n",
        "plt.plot(r.history['accuracy'], label='Training Accuracy')\n",
        "plt.plot(r.history['val_accuracy'], label='Validation Accuracy')\n",
        "plt.xlabel('Epoch')\n",
        "plt.ylabel('Accuracy')\n",
        "plt.legend()\n",
        "plt.show()\n",
        "plt.savefig('AccVal_acc')\n",
        "\n"
      ],
      "metadata": {
        "colab": {
          "base_uri": "https://localhost:8080/",
          "height": 781
        },
        "id": "6Pao9j5gRKCT",
        "outputId": "e65f75be-4bdb-49c8-8ee1-2d8b72d94bb0"
      },
      "execution_count": null,
      "outputs": [
        {
          "output_type": "display_data",
          "data": {
            "text/plain": [
              "<Figure size 1008x504 with 1 Axes>"
            ],
            "image/png": "[encoded data removed]"
          },
          "metadata": {
            "needs_background": "light"
          }
        },
        {
          "output_type": "display_data",
          "data": {
            "text/plain": [
              "<Figure size 432x288 with 0 Axes>"
            ]
          },
          "metadata": {}
        },
        {
          "output_type": "display_data",
          "data": {
            "text/plain": [
              "<Figure size 1008x504 with 1 Axes>"
            ],
            "image/png": "[encoded data removed]"
          },
          "metadata": {
            "needs_background": "light"
          }
        },
        {
          "output_type": "display_data",
          "data": {
            "text/plain": [
              "<Figure size 432x288 with 0 Axes>"
            ]
          },
          "metadata": {}
        }
      ]
    },
    {
      "cell_type": "code",
      "source": [
        "# save it as a h5 file\n",
        "\n",
        "\n",
        "from tensorflow.keras.models import load_model\n",
        "model_path = '/content/drive/MyDrive/Colab Notebooks/happy_pet/implementations/image_processing/model/'\n",
        "model_file_name = 'model_r_skin_disease.h5'\n",
        "cnn.save(model_path + model_file_name)\n"
      ],
      "metadata": {
        "id": "72kh7Ynqa_WB"
      },
      "execution_count": null,
      "outputs": []
    },
    {
      "cell_type": "code",
      "source": [
        "from tensorflow.keras.models import load_model\n",
        " \n",
        "# load model\n",
        "model = load_model(model_path + model_file_name)\n"
      ],
      "metadata": {
        "id": "5SWg0LWSbOIP"
      },
      "execution_count": null,
      "outputs": []
    },
    {
      "cell_type": "code",
      "source": [
        "model.summary()"
      ],
      "metadata": {
        "colab": {
          "base_uri": "https://localhost:8080/"
        },
        "id": "UE0Dw7EcbVm7",
        "outputId": "9bb2ff09-d2db-4e04-9353-8d380618a788"
      },
      "execution_count": null,
      "outputs": [
        {
          "output_type": "stream",
          "name": "stdout",
          "text": [
            "Model: \"sequential_7\"\n",
            "_________________________________________________________________\n",
            " Layer (type)                Output Shape              Param #   \n",
            "=================================================================\n",
            " conv2d_42 (Conv2D)          (None, 32, 32, 32)        896       \n",
            "                                                                 \n",
            " max_pooling2d_26 (MaxPoolin  (None, 16, 16, 32)       0         \n",
            " g2D)                                                            \n",
            "                                                                 \n",
            " conv2d_43 (Conv2D)          (None, 16, 16, 32)        9248      \n",
            "                                                                 \n",
            " max_pooling2d_27 (MaxPoolin  (None, 8, 8, 32)         0         \n",
            " g2D)                                                            \n",
            "                                                                 \n",
            " flatten_7 (Flatten)         (None, 2048)              0         \n",
            "                                                                 \n",
            " dense_19 (Dense)            (None, 128)               262272    \n",
            "                                                                 \n",
            " dense_20 (Dense)            (None, 17)                2193      \n",
            "                                                                 \n",
            "=================================================================\n",
            "Total params: 274,609\n",
            "Trainable params: 274,609\n",
            "Non-trainable params: 0\n",
            "_________________________________________________________________\n"
          ]
        }
      ]
    },
    {
      "cell_type": "code",
      "source": [
        "\n",
        "\n",
        "# Part 4 - Making a single prediction\n",
        "test_diseased_image = '/Alopecia/A11_1.jpg'\n",
        "\n",
        "import numpy as np\n",
        "from tensorflow.keras.preprocessing import image\n",
        "test_image = image.load_img(test_dir + test_diseased_image, target_size = (64,64))\n",
        "test_image = image.img_to_array(test_image)\n",
        "test_image=test_image/255\n",
        "test_image = np.expand_dims(test_image, axis = 0)\n",
        "result = cnn.predict(test_image)\n",
        "\n"
      ],
      "metadata": {
        "id": "fcPIuZdRcH6v"
      },
      "execution_count": null,
      "outputs": []
    },
    {
      "cell_type": "code",
      "source": [
        "print(result)\n",
        "print(data_dir_list)"
      ],
      "metadata": {
        "colab": {
          "base_uri": "https://localhost:8080/"
        },
        "id": "lkR3J0GOcLCm",
        "outputId": "3aa2c78c-0f41-4d59-df1c-6797404ecc2f"
      },
      "execution_count": null,
      "outputs": [
        {
          "output_type": "stream",
          "name": "stdout",
          "text": [
            "[[7.1010870e-01 2.7122283e-06 2.6851296e-01 3.1281048e-05 3.0639840e-03\n",
            "  6.2439558e-03 1.0172274e-03 4.2953907e-10 7.7150473e-03 3.2586141e-03\n",
            "  4.3511395e-07 3.0766168e-05 1.4653101e-06 4.0202317e-06 8.4893154e-06\n",
            "  2.5624857e-07 1.0184042e-07]]\n",
            "['Papule', 'Ringworm', 'Seborrhea', 'Alopecia', 'Vesicle', 'Pemphigus', 'Melanoma', 'Dranduff', 'Yeast_infection', 'Comedones_blackheads', 'Furunculosis', 'Impetigo', 'Fleas', 'Folliculitis', 'Hypothyvoidis', 'Lupus', 'Mange']\n"
          ]
        }
      ]
    },
    {
      "cell_type": "markdown",
      "source": [
        "Test Performance on Data Set"
      ],
      "metadata": {
        "id": "eQ3YPdsqaiLE"
      }
    },
    {
      "cell_type": "code",
      "source": [
        "## Test Performance on Test Data\n",
        "import pandas as pd\n",
        "import numpy as np\n",
        "from keras.preprocessing.image import load_img, img_to_array\n",
        "\n",
        "def preprocess_image(path):\n",
        "    img = load_img(path, target_size = (img_height, img_width))\n",
        "    a = img_to_array(img)\n",
        "    a = np.expand_dims(a, axis = 0)\n",
        "    a /= 255.\n",
        "    return a"
      ],
      "metadata": {
        "id": "TJ6HWJCgguqn"
      },
      "execution_count": null,
      "outputs": []
    },
    {
      "cell_type": "code",
      "source": [
        "\n",
        "\n",
        "# Read Test Images Dir and their labels\n",
        "test_images_dir = '/content/dataset/alien_test/'\n",
        "test_df = pd.read_csv('/content/dataset/test.csv')\n",
        "\n",
        "# put them in a list\n",
        "test_dfToList = test_df['Image_id'].tolist()\n",
        "test_ids = [str(item) for item in test_dfToList]\n",
        "\n",
        "test_images = [test_images_dir+item for item in test_ids]\n",
        "test_preprocessed_images = np.vstack([preprocess_image(fn) for fn in test_images])\n",
        "np.save('/content/test_preproc_CNN.npy', test_preprocessed_images)\n",
        "\n"
      ],
      "metadata": {
        "id": "-oNMm5YdgyrU"
      },
      "execution_count": null,
      "outputs": []
    },
    {
      "cell_type": "code",
      "source": [
        "array = model.predict(test_preprocessed_images, batch_size=1, verbose=1)\n",
        "answer = np.argmax(array, axis=1)\n",
        "print(answer)"
      ],
      "metadata": {
        "id": "OFf1exd0hFvq"
      },
      "execution_count": null,
      "outputs": []
    },
    {
      "cell_type": "code",
      "source": [
        "test_df = pd.read_csv('/content/dataset/test.csv')\n",
        "y_true = test_df['labels']\n",
        "y_pred = array\n",
        "print(y_true)"
      ],
      "metadata": {
        "id": "0roOmCrohJgU"
      },
      "execution_count": null,
      "outputs": []
    },
    {
      "cell_type": "code",
      "source": [
        "from sklearn.metrics import log_loss\n",
        "loss = log_loss(y_true, y_pred, eps=1e-15, normalize=True, sample_weight=None, labels=None)"
      ],
      "metadata": {
        "id": "5ggnjbf_hQi3"
      },
      "execution_count": null,
      "outputs": []
    },
    {
      "cell_type": "code",
      "source": [
        "\n",
        "\n",
        "from sklearn.metrics import confusion_matrix\n",
        "conf_mat = confusion_matrix(y_true, answer)\n",
        "conf_mat\n",
        "\n",
        "classes = os.listdir(train_dir)\n"
      ],
      "metadata": {
        "id": "mR3TLzUmhScS"
      },
      "execution_count": null,
      "outputs": []
    },
    {
      "cell_type": "code",
      "source": [
        "import itertools\n",
        "def plot_confusion_matrix(cm, classes,\n",
        "                          normalize=False,\n",
        "                          title='Confusion matrix',\n",
        "                          cmap=plt.cm.Reds):\n",
        "    \"\"\"\n",
        "    This function prints and plots the confusion matrix.\n",
        "    Normalization can be applied by setting `normalize=True`.\n",
        "    \"\"\"\n",
        "    plt.imshow(cm, interpolation='nearest', cmap=cmap)\n",
        "    plt.title(title)\n",
        "    plt.colorbar()\n",
        "    tick_marks = np.arange(len(classes))\n",
        "    plt.xticks(tick_marks, classes, rotation=45)\n",
        "    plt.yticks(tick_marks, classes)\n",
        "\n",
        "    if normalize:\n",
        "        cm = cm.astype('float') / cm.sum(axis=1)[:, np.newaxis]\n",
        "        cm = cm.round(2)\n",
        "        #print(\"Normalized confusion matrix\")\n",
        "    else:\n",
        "        cm=cm\n",
        "        #print('Confusion matrix, without normalization')\n",
        "\n",
        "    #print(cm)\n",
        "\n",
        "    thresh = cm.max() / 2.\n",
        "    for i, j in itertools.product(range(cm.shape[0]), range(cm.shape[1])):\n",
        "        plt.text(j, i, cm[i, j],\n",
        "                 horizontalalignment=\"center\",\n",
        "                 color=\"white\" if cm[i, j] > thresh else \"black\")\n",
        "\n",
        "    plt.tight_layout()\n",
        "    plt.ylabel('True label')\n",
        "    plt.xlabel('Predicted label')"
      ],
      "metadata": {
        "id": "nuD02QAEheEz"
      },
      "execution_count": null,
      "outputs": []
    },
    {
      "cell_type": "code",
      "source": [
        "\n",
        "\n",
        "np.set_printoptions(precision=2)\n",
        "\n",
        "fig1 = plt.figure(figsize=(7,6))\n",
        "plot_confusion_matrix(conf_mat, classes=classes, title='Confusion matrix, without normalization')\n",
        "plt.show()\n",
        "\n"
      ],
      "metadata": {
        "id": "ryQ6sD9qhf9X"
      },
      "execution_count": null,
      "outputs": []
    }
  ]
}